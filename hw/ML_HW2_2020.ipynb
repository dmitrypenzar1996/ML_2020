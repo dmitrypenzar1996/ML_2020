{
 "cells": [
  {
   "cell_type": "code",
   "execution_count": 63,
   "metadata": {},
   "outputs": [],
   "source": [
    "import numpy as np\n",
    "import matplotlib.pyplot as plt\n",
    "import seaborn as sns\n",
    "\n",
    "from sklearn.linear_model import LinearRegression, LogisticRegression"
   ]
  },
  {
   "cell_type": "markdown",
   "metadata": {},
   "source": [
    "# Задачи на ML"
   ]
  },
  {
   "cell_type": "markdown",
   "metadata": {},
   "source": [
    "Выведите формулу ML-оценки для дисперсии нормального распределения по выборке из него.\n",
    "Можно вставить в дз фотографию, либо использовать Latex в самом ноутбуке. Либо скинуть в письме вместе с jupyter-notebook"
   ]
  },
  {
   "cell_type": "code",
   "execution_count": null,
   "metadata": {},
   "outputs": [],
   "source": []
  },
  {
   "cell_type": "markdown",
   "metadata": {},
   "source": [
    "Выведите формулу ML-оценки для оценки параметра лямбда распределения Пуассона по данной выборке из него"
   ]
  },
  {
   "cell_type": "code",
   "execution_count": null,
   "metadata": {},
   "outputs": [],
   "source": []
  },
  {
   "cell_type": "markdown",
   "metadata": {},
   "source": [
    "## Задачи на MAP-оценку"
   ]
  },
  {
   "cell_type": "markdown",
   "metadata": {},
   "source": [
    "Выведите MAP-оценку для общего случая эксперимента с монетой. N бросков, выпало k орлов\n",
    "\n",
    "Вероятность получить монету с такой-то вероятностью выпадения орла задается бета-распределением\n",
    "с параметрами alpha и beta"
   ]
  },
  {
   "cell_type": "code",
   "execution_count": null,
   "metadata": {},
   "outputs": [],
   "source": []
  },
  {
   "cell_type": "markdown",
   "metadata": {},
   "source": [
    " Исследуйте поведение полученной формулы в зависимости от соотношения числа бросков и alpha+beta, и соотношения alpha и beta. Можно ли получить ситуацию, при которой результаты опыта не влияют на наши выводы?"
   ]
  },
  {
   "cell_type": "code",
   "execution_count": null,
   "metadata": {},
   "outputs": [],
   "source": []
  },
  {
   "cell_type": "markdown",
   "metadata": {},
   "source": [
    "\\* Обобщением beta-распределения является распределение Дирихле. Нам понадобится это распределение в качестве априорного, когда мы хотим, к примеру, оценить частоту нуклеотидов в данной позиции выравнивания. \n",
    "\n",
    "Выведите формулу MAP-оценки, по которой можно посчитать частоту каждого нуклеотида. Для решения вам понадобится знание метода множителей Лагранжа (https://ru.wikipedia.org/wiki/%D0%9C%D0%B5%D1%82%D0%BE%D0%B4_%D0%BC%D0%BD%D0%BE%D0%B6%D0%B8%D1%82%D0%B5%D0%BB%D0%B5%D0%B9_%D0%9B%D0%B0%D0%B3%D1%80%D0%B0%D0%BD%D0%B6%D0%B0)\n",
    "\n",
    "Вы можете найти решение в книге Дурбин \"Анализ биологических последовательностей\"\n"
   ]
  },
  {
   "cell_type": "markdown",
   "metadata": {},
   "source": [
    "# Линейная регрессия для классификации "
   ]
  },
  {
   "cell_type": "code",
   "execution_count": 6,
   "metadata": {},
   "outputs": [
    {
     "data": {
      "text/plain": [
       "<matplotlib.collections.PathCollection at 0x11d670130>"
      ]
     },
     "execution_count": 6,
     "metadata": {},
     "output_type": "execute_result"
    },
    {
     "data": {
      "image/png": "[encoded data removed]",
      "text/plain": [
       "<Figure size 432x288 with 1 Axes>"
      ]
     },
     "metadata": {
      "needs_background": "light"
     },
     "output_type": "display_data"
    }
   ],
   "source": [
    "x = np.arange(-5, 6, 0.5)\n",
    "\n",
    "# пусть если x больше 5 - то он в классе 1, иначе он в классе 0\n",
    "y = x > 0\n",
    "\n",
    "plt.xlim(-5, 5)\n",
    "plt.hlines(0.5, -10, 10, linestyles='--', color='c')\n",
    "plt.scatter(x, y, c=y, cmap=ListedColormap(['red', 'blue']) )"
   ]
  },
  {
   "cell_type": "code",
   "execution_count": 7,
   "metadata": {},
   "outputs": [
    {
     "data": {
      "text/plain": [
       "[<matplotlib.lines.Line2D at 0x11d34dee0>]"
      ]
     },
     "execution_count": 7,
     "metadata": {},
     "output_type": "execute_result"
    },
    {
     "data": {
      "image/png": "[encoded data removed]",
      "text/plain": [
       "<Figure size 432x288 with 1 Axes>"
      ]
     },
     "metadata": {
      "needs_background": "light"
     },
     "output_type": "display_data"
    }
   ],
   "source": [
    "X = x.reshape(-1, 1)\n",
    "model = LinearRegression()\n",
    "model.fit(X, y)\n",
    "\n",
    "x_grid = np.arange(-5, 6, 0.01)\n",
    "X_grid = x_grid.reshape(-1, 1)\n",
    "y_grid = model.predict(X_grid)\n",
    "\n",
    "\n",
    "plt.xlim(-5, 5)\n",
    "plt.hlines(0.5, -10, 10, linestyles='--', color='c')\n",
    "plt.scatter(x, y, c=y, cmap=ListedColormap(['red', 'blue']) )\n",
    "plt.plot(x_grid, y_grid)"
   ]
  },
  {
   "cell_type": "markdown",
   "metadata": {},
   "source": [
    "#### Какие проблемы вы видите в данном подходе? "
   ]
  },
  {
   "cell_type": "code",
   "execution_count": null,
   "metadata": {},
   "outputs": [],
   "source": []
  },
  {
   "cell_type": "markdown",
   "metadata": {},
   "source": [
    "### Сделайте вывод о применимости"
   ]
  },
  {
   "cell_type": "code",
   "execution_count": null,
   "metadata": {},
   "outputs": [],
   "source": []
  },
  {
   "cell_type": "markdown",
   "metadata": {},
   "source": [
    "# Логистическая регрессия для классификации "
   ]
  },
  {
   "cell_type": "markdown",
   "metadata": {},
   "source": [
    "Попробуем теперь логистическую регрессию. "
   ]
  },
  {
   "cell_type": "code",
   "execution_count": 8,
   "metadata": {},
   "outputs": [
    {
     "data": {
      "text/plain": [
       "[<matplotlib.lines.Line2D at 0x11d74fe50>]"
      ]
     },
     "execution_count": 8,
     "metadata": {},
     "output_type": "execute_result"
    },
    {
     "data": {
      "image/png": "[encoded data removed]",
      "text/plain": [
       "<Figure size 432x288 with 1 Axes>"
      ]
     },
     "metadata": {
      "needs_background": "light"
     },
     "output_type": "display_data"
    }
   ],
   "source": [
    "x = np.arange(-5, 6, 0.5)\n",
    "\n",
    "# пусть если x больше 5 - то он в классе 1, иначе он в классе 0\n",
    "y = x > 0\n",
    "\n",
    "plt.xlim(-5, 5)\n",
    "plt.hlines(0.5, -10, 10, linestyles='--', color='c')\n",
    "plt.scatter(x, y, c=y, cmap=ListedColormap(['red', 'blue']))\n",
    "\n",
    "X = x.reshape(-1, 1)\n",
    "model = LogisticRegression(solver='lbfgs')\n",
    "model.fit(X, y)\n",
    "x_grid = np.arange(-5, 6, 0.01)\n",
    "X_grid = x_grid.reshape(-1, 1)\n",
    "y_grid = model.predict(X_grid)\n",
    "\n",
    "\n",
    "plt.xlim(-5, 5)\n",
    "plt.hlines(0.5, -10, 10, linestyles='--', color='c')\n",
    "plt.scatter(x, y, c=y, cmap=ListedColormap(['red', 'blue']) )\n",
    "plt.plot(x_grid, y_grid)"
   ]
  },
  {
   "cell_type": "markdown",
   "metadata": {},
   "source": [
    "#### Получили пороговую функцию. То, что и хотели. Однако логистическая регрессия на самом деле учит не пороговую функцию. А почему нельзя учить ее? "
   ]
  },
  {
   "cell_type": "code",
   "execution_count": null,
   "metadata": {},
   "outputs": [],
   "source": []
  },
  {
   "cell_type": "markdown",
   "metadata": {},
   "source": [
    "#### Постройте график функции, которую использует логистическая регрессия для одномерного случая"
   ]
  },
  {
   "cell_type": "code",
   "execution_count": null,
   "metadata": {},
   "outputs": [],
   "source": []
  },
  {
   "cell_type": "code",
   "execution_count": 9,
   "metadata": {},
   "outputs": [
    {
     "name": "stdout",
     "output_type": "stream",
     "text": [
      "(1100, 2)\n"
     ]
    },
    {
     "data": {
      "image/png": "[encoded data removed]",
      "text/plain": [
       "<Figure size 432x288 with 1 Axes>"
      ]
     },
     "metadata": {
      "needs_background": "light"
     },
     "output_type": "display_data"
    }
   ],
   "source": [
    "x = np.arange(-5, 6, 0.5)\n",
    "\n",
    "# пусть если x больше 5 - то он в классе 1, иначе он в классе 0\n",
    "y = x > 0\n",
    "\n",
    "plt.xlim(-5, 5)\n",
    "plt.hlines(0.5, -10, 10, linestyles='--', color='c')\n",
    "plt.scatter(x, y, c=y, cmap=ListedColormap(['red', 'blue']))\n",
    "\n",
    "X = x.reshape(-1, 1)\n",
    "model = LogisticRegression(solver='lbfgs')\n",
    "model.fit(X, y)\n",
    "x_grid = np.arange(-5, 6, 0.01)\n",
    "X_grid = x_grid.reshape(-1, 1)\n",
    "y_grid = model.predict_proba(X_grid) # predict probabilities instead of labels\n",
    "print(y_grid.shape) # two columns for each object from X_grid\n",
    "\n",
    "plt.xlim(-5, 5)\n",
    "plt.hlines(0.5, -10, 10, linestyles='--', color='c')\n",
    "plt.scatter(x, y, c=y, cmap=ListedColormap(['red', 'blue']) )\n",
    "plt.vlines(0.25, 0, 1, linestyles='dashed', color='g')\n",
    "plt.plot(x_grid, y_grid)\n",
    "plt.show()"
   ]
  },
  {
   "cell_type": "markdown",
   "metadata": {},
   "source": [
    "##### Чему соответствуют две полученные на графике кривые линии? "
   ]
  },
  {
   "cell_type": "code",
   "execution_count": null,
   "metadata": {},
   "outputs": [],
   "source": []
  },
  {
   "cell_type": "markdown",
   "metadata": {},
   "source": [
    "#### Чему на ваш взгляд может соответствовать зеленая линия? "
   ]
  },
  {
   "cell_type": "code",
   "execution_count": null,
   "metadata": {},
   "outputs": [],
   "source": []
  },
  {
   "cell_type": "markdown",
   "metadata": {},
   "source": [
    "### *Постройте график сигмоиды в многомерном случае (слайд 51)"
   ]
  },
  {
   "cell_type": "code",
   "execution_count": null,
   "metadata": {},
   "outputs": [],
   "source": []
  },
  {
   "cell_type": "markdown",
   "metadata": {},
   "source": [
    "# Регуляризация\n"
   ]
  },
  {
   "cell_type": "markdown",
   "metadata": {},
   "source": [
    "Чтобы использовать регуляризацию, необходимо использовать градиентный спуск, который мы обсудим на следующем занятии и который позволяет находить коэффициенты линейной регрессии в этом случае"
   ]
  },
  {
   "cell_type": "markdown",
   "metadata": {},
   "source": [
    "Пример запуска без регуляризации"
   ]
  },
  {
   "cell_type": "code",
   "execution_count": 11,
   "metadata": {},
   "outputs": [],
   "source": [
    "from sklearn.linear_model import SGDRegressor"
   ]
  },
  {
   "cell_type": "code",
   "execution_count": 13,
   "metadata": {},
   "outputs": [],
   "source": [
    "def make_order_matrix(x, order): \n",
    "    # Делаем матрицу признаков. Каждой строке соответствует один объект, каждому столбцу - степень от 0 до order\n",
    "    X = np.zeros((x.shape[0], order+1))\n",
    "    X[:, 0] = 1\n",
    "    X[:, 1] = x\n",
    "    for i in range(2, order + 1):\n",
    "        X[:, i] = x ** i\n",
    "    return X \n",
    "    "
   ]
  },
  {
   "cell_type": "code",
   "execution_count": 15,
   "metadata": {},
   "outputs": [],
   "source": [
    "def get_sin_sample(n=10, sigma=0.05, mean=0, xlim=(0,1), bins=None): # latin hypercube sampling\n",
    "    if bins is None:\n",
    "        bins = n\n",
    "    \n",
    "    step = (xlim[1] - xlim[0]) / bins\n",
    "    k = int(np.ceil(n/bins))\n",
    "    x = np.zeros(n)\n",
    "    \n",
    "    s = 0\n",
    "    e = step\n",
    "    pos = 0\n",
    "    for i in range(0, bins):\n",
    "        x[pos:pos+k] = np.random.uniform(s, e, k)\n",
    "        s = e\n",
    "        e += step\n",
    "        pos += k\n",
    "    \n",
    "    last = n - bins\n",
    "    if pos != n:\n",
    "        x[pos:] = np.random.uniform(0, 1, n - pos)\n",
    "    \n",
    "    y = np.sin(2 * np.pi * x) \n",
    "    y_noised = y + np.random.normal(mean, sigma, n)\n",
    "    return x, y_noised\n"
   ]
  },
  {
   "cell_type": "code",
   "execution_count": 78,
   "metadata": {},
   "outputs": [
    {
     "data": {
      "text/plain": [
       "[<matplotlib.lines.Line2D at 0x12cf88dc0>]"
      ]
     },
     "execution_count": 78,
     "metadata": {},
     "output_type": "execute_result"
    },
    {
     "data": {
      "image/png": "[encoded data removed]",
      "text/plain": [
       "<Figure size 432x288 with 1 Axes>"
      ]
     },
     "metadata": {
      "needs_background": "light"
     },
     "output_type": "display_data"
    }
   ],
   "source": [
    "n = 10\n",
    "sigma = 0.15\n",
    "mean = 0\n",
    "x, y = get_sin_sample(n=10, mean=mean, sigma=sigma)\n",
    "eps = 0.01\n",
    "xlim = (0, 1)\n",
    "plt.plot(x, y, marker='o', fillstyle='none', linestyle='none', markersize=7)\n",
    "xsin = np.arange(xlim[0], xlim[1], (xlim[1] - xlim[0]) / 10000)\n",
    "ysin = np.sin(2 * np.pi * xsin)\n",
    "plt.plot(xsin, ysin, color='green')"
   ]
  },
  {
   "cell_type": "code",
   "execution_count": 79,
   "metadata": {},
   "outputs": [
    {
     "data": {
      "text/plain": [
       "[<matplotlib.lines.Line2D at 0x12d0ae670>]"
      ]
     },
     "execution_count": 79,
     "metadata": {},
     "output_type": "execute_result"
    },
    {
     "data": {
      "image/png": "[encoded data removed]",
      "text/plain": [
       "<Figure size 432x288 with 1 Axes>"
      ]
     },
     "metadata": {
      "needs_background": "light"
     },
     "output_type": "display_data"
    }
   ],
   "source": [
    "order = 10\n",
    "model = SGDRegressor(fit_intercept=False, max_iter=100000, alpha=0, tol=1e-8) #\n",
    "\n",
    "X= make_order_matrix(x, order)\n",
    "model.fit(X, y)\n",
    "\n",
    "X_grid = make_order_matrix(xsin, order)\n",
    "y_grid_pred = model.predict(X_grid)\n",
    "\n",
    "plt.ylim(-1.5, 1.5) # установить предел для оси OY\n",
    "plt.plot(x, y, marker='o', fillstyle='none', linestyle='none', markersize=7)\n",
    "plt.plot(xsin, y_grid_pred, color='red')\n",
    "plt.plot(xsin, ysin, color='green')"
   ]
  },
  {
   "cell_type": "code",
   "execution_count": 18,
   "metadata": {},
   "outputs": [],
   "source": [
    "# Модель только с l1-лоссом\n",
    "model = SGDRegressor(fit_intercept=True, max_iter=100000, alpha=0.2, tol=1e-8, l1_ratio=1) "
   ]
  },
  {
   "cell_type": "code",
   "execution_count": 19,
   "metadata": {},
   "outputs": [],
   "source": [
    "# Модель только с l2-лоссом\n",
    "model = SGDRegressor(fit_intercept=True, max_iter=100000, alpha=0.2, tol=1e-8, l1_ratio=0) "
   ]
  },
  {
   "cell_type": "markdown",
   "metadata": {},
   "source": [
    "#### Изучите влияние регуляризации (выберите один из двух лоссов) на точность аппроксимации модели. "
   ]
  },
  {
   "cell_type": "code",
   "execution_count": null,
   "metadata": {},
   "outputs": [],
   "source": []
  },
  {
   "cell_type": "markdown",
   "metadata": {},
   "source": [
    "#### Bias-variance tradeoff\n",
    "\n",
    "Будем оценивать bias и variance модели по тренировочной выборке. \n",
    "Постройте график bias-variance tradeoff для l1-loss, меняем alpha от 0.0000001 до 1000 с логарифмическим шагом ([0.0000001, ....., 1000])"
   ]
  },
  {
   "cell_type": "code",
   "execution_count": 57,
   "metadata": {},
   "outputs": [],
   "source": [
    "from mlxtend.evaluate import bias_variance_decomp\n",
    "from sklearn.model_selection import train_test_split"
   ]
  },
  {
   "cell_type": "code",
   "execution_count": 73,
   "metadata": {},
   "outputs": [],
   "source": [
    "x, y = get_sin_sample(n=200, mean=0, sigma=1)\n",
    "order = 10\n",
    "X= make_order_matrix(x, order)\n",
    "\n",
    "X_train, X_test, y_train, y_test = train_test_split(X, y, test_size=0.33, random_state=777)"
   ]
  },
  {
   "cell_type": "code",
   "execution_count": 74,
   "metadata": {},
   "outputs": [],
   "source": [
    "from sklearn.exceptions import ConvergenceWarning"
   ]
  },
  {
   "cell_type": "code",
   "execution_count": 75,
   "metadata": {},
   "outputs": [],
   "source": [
    "import warnings\n",
    "warnings.filterwarnings(\"ignore\", category=ConvergenceWarning)"
   ]
  },
  {
   "cell_type": "code",
   "execution_count": 76,
   "metadata": {},
   "outputs": [
    {
     "name": "stdout",
     "output_type": "stream",
     "text": [
      "Bias: 1.064\n",
      "Variance: 0.103\n"
     ]
    }
   ],
   "source": [
    "model = SGDRegressor(fit_intercept=True, \n",
    "                         max_iter=100000, \n",
    "                         alpha=0, \n",
    "                         tol=1e-8, \n",
    "                         l1_ratio=1)\n",
    "\n",
    "\n",
    "mse, bias, var = bias_variance_decomp(model, \n",
    "                                          X_train,\n",
    "                                          y_train, \n",
    "                                          X_test, \n",
    "                                          y_test, \n",
    "                                          loss='mse', \n",
    "                                          num_rounds=200, \n",
    "                                          random_seed=777)\n",
    "    # summarize results\n",
    "print('Bias: %.3f' % bias)\n",
    "print('Variance: %.3f' % var)"
   ]
  },
  {
   "cell_type": "markdown",
   "metadata": {},
   "source": [
    "# Изучение SGDRegressor*"
   ]
  },
  {
   "cell_type": "markdown",
   "metadata": {},
   "source": [
    "Изучите любые три параметра SGDRegressor. Объясните смысл значений, которые они могут принимать. "
   ]
  },
  {
   "cell_type": "markdown",
   "metadata": {},
   "source": [
    "# Построение графика MSE*"
   ]
  },
  {
   "cell_type": "markdown",
   "metadata": {},
   "source": [
    "Постройте график зависимости MSE от порядка модели для фиксированных значений других параметров. \n",
    "Также можно построить график зависимости MSE от двух параметров при помощи heatmap. "
   ]
  },
  {
   "cell_type": "code",
   "execution_count": null,
   "metadata": {},
   "outputs": [],
   "source": []
  }
 ],
 "metadata": {
  "kernelspec": {
   "display_name": "Python 3",
   "language": "python",
   "name": "python3"
  },
  "language_info": {
   "codemirror_mode": {
    "name": "ipython",
    "version": 3
   },
   "file_extension": ".py",
   "mimetype": "text/x-python",
   "name": "python",
   "nbconvert_exporter": "python",
   "pygments_lexer": "ipython3",
   "version": "3.8.3"
  }
 },
 "nbformat": 4,
 "nbformat_minor": 4
}
